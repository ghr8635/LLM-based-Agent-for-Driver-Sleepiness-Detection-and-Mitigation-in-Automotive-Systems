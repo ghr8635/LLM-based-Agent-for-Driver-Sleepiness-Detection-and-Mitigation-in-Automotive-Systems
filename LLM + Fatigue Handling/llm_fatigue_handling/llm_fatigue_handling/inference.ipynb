{
 "cells": [
  {
   "cell_type": "code",
   "execution_count": null,
   "id": "e10d5170",
   "metadata": {},
   "outputs": [],
   "source": [
    "import torch\n",
    "from transformers import AutoTokenizer, AutoModelForCausalLM, BitsAndBytesConfig\n",
    "from peft import PeftModel\n",
    "from model_wrapper_with_mlp_adapter import FeaturePrefixAdapter, PrefixLLaMAModel\n",
    "import os\n",
    "\n",
    "# === Fix path with spaces\n",
    "BASE_DIR = \"/content/drive/MyDrive/LLM + Fatigue Handling\"\n",
    "MODEL_DIR = os.path.join(BASE_DIR, \"llama_prefix_final_model\")\n",
    "ADAPTER_PATH = os.path.join(MODEL_DIR, \"prefix_adapter.pth\")\n",
    "\n",
    "# === Constants\n",
    "FEATURE_DIM = 9\n",
    "EMBEDDING_DIM = 4096\n",
    "PREFIX_TOKEN_COUNT = 5\n",
    "\n",
    "# === Bits and Bytes Config (Optional if you used quantization)\n",
    "bnb_config = BitsAndBytesConfig(load_in_4bit=True)\n",
    "\n",
    "# === Load tokenizer (from local)\n",
    "tokenizer = AutoTokenizer.from_pretrained(MODEL_DIR, local_files_only=True)\n",
    "\n",
    "# === Load base model (from local)\n",
    "base_model = AutoModelForCausalLM.from_pretrained(\n",
    "    MODEL_DIR,\n",
    "    device_map=\"auto\",\n",
    "    trust_remote_code=True,\n",
    "    quantization_config=bnb_config,\n",
    "    local_files_only=True  # ← IMPORTANT\n",
    ")\n",
    "\n",
    "# === Load LoRA adapter (from local)\n",
    "llama_model = PeftModel.from_pretrained(\n",
    "    base_model,\n",
    "    MODEL_DIR,\n",
    "    is_trainable=False,\n",
    "    adapter_name=\"default\",\n",
    "    local_files_only=True  # ← IMPORTANT\n",
    ")\n",
    "\n",
    "# === Load your MLP adapter\n",
    "adapter = FeaturePrefixAdapter(\n",
    "    input_dim=FEATURE_DIM,\n",
    "    hidden_dim=256,\n",
    "    output_dim=EMBEDDING_DIM,\n",
    "    num_tokens=PREFIX_TOKEN_COUNT\n",
    ")\n",
    "adapter.load_state_dict(torch.load(ADAPTER_PATH, map_location=\"cpu\"))\n",
    "adapter.eval()\n",
    "\n",
    "# === Combine everything\n",
    "model = PrefixLLaMAModel(llama_model, adapter).to(\"cuda\" if torch.cuda.is_available() else \"cpu\")\n",
    "model.eval()\n"
   ]
  }
 ],
 "metadata": {
  "kernelspec": {
   "display_name": "base",
   "language": "python",
   "name": "python3"
  },
  "language_info": {
   "name": "python",
   "version": "3.11.7"
  }
 },
 "nbformat": 4,
 "nbformat_minor": 5
}
